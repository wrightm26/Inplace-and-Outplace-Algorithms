{
 "cells": [
  {
   "cell_type": "markdown",
   "id": "f5162e7b",
   "metadata": {},
   "source": [
    "## Exercises\n",
    "#### Exercise #1\n",
    "Reverse the list below in-place using an in-place algorithm.\n",
    "For extra credit: Reverse the strings at the same time.\n",
    "\n"
   ]
  },
  {
   "cell_type": "code",
   "execution_count": 89,
   "id": "30b84ec4",
   "metadata": {},
   "outputs": [
    {
     "data": {
      "text/plain": [
       "['.', 'ecnetnes', 'a', 'si', 'siht']"
      ]
     },
     "execution_count": 89,
     "metadata": {},
     "output_type": "execute_result"
    }
   ],
   "source": [
    "words = ['this' , 'is', 'a', 'sentence', '.']\n",
    "#output: ['.', 'sentence', 'a', 'is', 'this']\n",
    "#bonus: ['.', 'ecnetnes', 'a', 'si', 'siht']\n",
    "\n",
    "def switch(a_list, word1, word2, word3, word4, word5):\n",
    "    a_list[word1], a_list[word2], a_list[word3], a_list[word4], a_list[word5] = a_list[word5][::-1], a_list[word4][::-1], a_list[word3][::-1], a_list[word2][::-1], a_list[word1][::-1]\n",
    "    for word in a_list:\n",
    "        new_word = word[::-1]\n",
    "    return a_list\n",
    "\n",
    "switch(words,0,1,2,3,4)\n"
   ]
  },
  {
   "cell_type": "markdown",
   "id": "e0775eee",
   "metadata": {},
   "source": [
    "#### Exercise #2\n",
    "Create a function that counts how many distinct words are in the string below, then outputs a dictionary with the words as the key and the value as the amount of times that word appears in the string.\n",
    "\n",
    "EXTRA CREDIT: Make this case insensitive and remove the punctuation\n",
    "Example Output:{'in': 1, 'computing': 1, 'a': 5, ...}"
   ]
  },
  {
   "cell_type": "code",
   "execution_count": 103,
   "id": "af69ec01",
   "metadata": {},
   "outputs": [
    {
     "name": "stdout",
     "output_type": "stream",
     "text": [
      "{'in': 4, 'computing,': 1, 'a': 33, 'hash': 4, 'table': 2, 'map': 2, 'is': 1, 'data': 2, 'structure': 2, 'which': 2, 'implements': 1, 'an': 5, 'associative': 1, 'array': 2, 'abstract': 1, 'type,': 1, 'that': 1, 'can': 2, 'keys': 1, 'to': 3, 'values.': 1, 'uses': 1, 'function': 1, 'compute': 1, 'index': 1, 'into': 1, 'of': 1, 'buckets': 1, 'or': 1, 'slots': 1, 'from': 1, 'the': 1, 'desired': 1, 'value': 2, 'be': 1, 'found.': 1}\n"
     ]
    }
   ],
   "source": [
    "a_text = 'In computing, a hash table hash map is a data structure which implements an associative array abstract data type, a structure that can map keys to values. A hash table uses a hash function to compute an index into an array of buckets or slots from which the desired value can be found.'\n",
    "def count_words(sentence):\n",
    "    word_in_dict = {}\n",
    "    sentence = sentence.lower()\n",
    "    for word in sentence.split(' '):\n",
    "        count = 0\n",
    "        for j in range(sentence.count(word)):\n",
    "            count += 1\n",
    "            \n",
    "        word_in_dict[word] = count\n",
    "    return word_in_dict\n",
    "    \n",
    "\n",
    "print(count_words(a_text))"
   ]
  },
  {
   "cell_type": "markdown",
   "id": "2eeab854",
   "metadata": {},
   "source": [
    "#### Exercise #3\n",
    "Write a function implementing a Linear Search Algorithm. A linear search is a method for finding an element within a list. It sequentially checks each element of the list until a match is found or the whole list has been searched. If you do not find a match, return -1"
   ]
  },
  {
   "cell_type": "code",
   "execution_count": 94,
   "id": "717ac7e7",
   "metadata": {},
   "outputs": [
    {
     "data": {
      "text/plain": [
       "3"
      ]
     },
     "execution_count": 94,
     "metadata": {},
     "output_type": "execute_result"
    }
   ],
   "source": [
    "nums_list = [10,23,45,70,11,15]\n",
    "target = 70\n",
    "\n",
    "def find_index(num, lis):\n",
    "    if num in lis:\n",
    "        return lis.index(num)\n",
    "    else:\n",
    "        return -1\n",
    "        \n",
    "find_index(target, nums_list)        "
   ]
  }
 ],
 "metadata": {
  "kernelspec": {
   "display_name": "Python 3 (ipykernel)",
   "language": "python",
   "name": "python3"
  },
  "language_info": {
   "codemirror_mode": {
    "name": "ipython",
    "version": 3
   },
   "file_extension": ".py",
   "mimetype": "text/x-python",
   "name": "python",
   "nbconvert_exporter": "python",
   "pygments_lexer": "ipython3",
   "version": "3.9.13"
  }
 },
 "nbformat": 4,
 "nbformat_minor": 5
}
